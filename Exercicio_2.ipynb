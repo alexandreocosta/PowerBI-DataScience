{
  "nbformat": 4,
  "nbformat_minor": 0,
  "metadata": {
    "colab": {
      "name": "Exercicio 2.ipynb",
      "provenance": [],
      "authorship_tag": "ABX9TyME/COvrAezuNmp7Zegmp8I",
      "include_colab_link": true
    },
    "kernelspec": {
      "name": "python3",
      "display_name": "Python 3"
    }
  },
  "cells": [
    {
      "cell_type": "markdown",
      "metadata": {
        "id": "view-in-github",
        "colab_type": "text"
      },
      "source": [
        "<a href=\"https://colab.research.google.com/github/alexandreocosta/PowerBI-DataScience/blob/master/Exercicio_2.ipynb\" target=\"_parent\"><img src=\"https://colab.research.google.com/assets/colab-badge.svg\" alt=\"Open In Colab\"/></a>"
      ]
    },
    {
      "cell_type": "markdown",
      "metadata": {
        "id": "xWO6gMbgTMDL",
        "colab_type": "text"
      },
      "source": [
        "**1. Faça uma função que receba dois números e retorne a média entre eles.**"
      ]
    },
    {
      "cell_type": "code",
      "metadata": {
        "id": "DKH6JrzYxqEk",
        "colab_type": "code",
        "outputId": "615787ad-8c3b-4f04-c634-05d17b6f106e",
        "colab": {
          "base_uri": "https://localhost:8080/",
          "height": 52
        }
      },
      "source": [
        "numero1 = float(input('Primeiro numero: '))\n",
        "numero2 = float(input('Segundo numero: '))"
      ],
      "execution_count": 1,
      "outputs": [
        {
          "output_type": "stream",
          "text": [
            "Primeiro numero: 6\n",
            "Segundo numero: 7\n"
          ],
          "name": "stdout"
        }
      ]
    },
    {
      "cell_type": "code",
      "metadata": {
        "id": "jdvQ5Nrzx-qd",
        "colab_type": "code",
        "outputId": "1e2a1973-3417-47c8-e399-4bb002c15634",
        "colab": {
          "base_uri": "https://localhost:8080/",
          "height": 34
        }
      },
      "source": [
        "media = (numero1 + numero2) / 2\n",
        "print('Média: ',media)"
      ],
      "execution_count": 2,
      "outputs": [
        {
          "output_type": "stream",
          "text": [
            "Média:  6.5\n"
          ],
          "name": "stdout"
        }
      ]
    },
    {
      "cell_type": "code",
      "metadata": {
        "id": "7m5FngqHT29I",
        "colab_type": "code",
        "colab": {}
      },
      "source": [
        ""
      ],
      "execution_count": 0,
      "outputs": []
    },
    {
      "cell_type": "markdown",
      "metadata": {
        "id": "UcEWlHqUTsdI",
        "colab_type": "text"
      },
      "source": [
        "**2. Faça uma função que leia um código de material que contenha 3 letras e quatro números (Exemplo: EAN1248) e retorne a parte texto (EAN) e número (1248) separadas.**"
      ]
    },
    {
      "cell_type": "code",
      "metadata": {
        "id": "zxYGek7UTw73",
        "colab_type": "code",
        "colab": {}
      },
      "source": [
        ""
      ],
      "execution_count": 0,
      "outputs": []
    },
    {
      "cell_type": "markdown",
      "metadata": {
        "id": "YIJjx2PLDhsp",
        "colab_type": "text"
      },
      "source": [
        "**3. Um vendedor de casquinhas de sorvete quer um sistema onde ele informe a quantidade e o sabor do sorvete. Em sua sorveteria vendem-se 3 sabores de sorvete com preços variados.**\n"
      ]
    },
    {
      "cell_type": "code",
      "metadata": {
        "id": "kf24EVXxJAVV",
        "colab_type": "code",
        "colab": {}
      },
      "source": [
        ""
      ],
      "execution_count": 0,
      "outputs": []
    }
  ]
}